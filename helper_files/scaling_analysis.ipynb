{
 "cells": [
  {
   "cell_type": "code",
   "execution_count": null,
   "id": "5d3d5a52",
   "metadata": {},
   "outputs": [],
   "source": [
    "import numpy as np\n",
    "import matplotlib.pyplot as plt"
   ]
  },
  {
   "cell_type": "code",
   "execution_count": null,
   "id": "886b9be4",
   "metadata": {},
   "outputs": [],
   "source": [
    "thread_number = np.array([1, 2, 4, 8, 16, 32])\n",
    "time_MOa      = np.array([1.41, 0.77, 0.42, 0.25, 0.15, 0.09])\n",
    "time_MOb      = np.array([1.45, 0.81, 0.46, 0.29, 0.20, 0.13])\n",
    "time_Orthog   = np.array([4.16, 2.16, 1.20, 0.68, 0.37, 0.28])\n",
    "time_MP2      = np.array([1.31, 0.58, 0.34, 0.20, 0.11, 0.07])\n",
    "time_all      = time_MOa + time_MOb + time_Orthog + time_MP2"
   ]
  },
  {
   "cell_type": "code",
   "execution_count": null,
   "id": "ca8b3add",
   "metadata": {},
   "outputs": [],
   "source": [
    "speedup_MOa    = time_MOa[0] / time_MOa\n",
    "speedup_MOb    = time_MOb[0] / time_MOb\n",
    "speedup_Orthog = time_Orthog[0] / time_Orthog\n",
    "speedup_MP2    = time_MP2[0] / time_MP2\n",
    "speedup_all    = time_all[0] / time_all"
   ]
  },
  {
   "cell_type": "code",
   "execution_count": null,
   "id": "56db9230",
   "metadata": {},
   "outputs": [],
   "source": [
    "fig, ax = plt.subplots(figsize=(7,4))\n",
    "\n",
    "ax.plot(thread_number, thread_number, label='ideal', lw=3, c='gray', ls='--')\n",
    "\n",
    "ax.plot(thread_number, speedup_MOa,    c='lightgreen',   lw=2, marker='o', alpha=0.7, label='MO1')\n",
    "ax.plot(thread_number, speedup_MOb,    c='green',        lw=2, marker='o', alpha=0.7, label='MO2')\n",
    "ax.plot(thread_number, speedup_Orthog, c='blue',         lw=2, marker='o', alpha=0.7, label='Orthog')\n",
    "ax.plot(thread_number, speedup_MP2,     c='deepskyblue', lw=2, marker='o', alpha=0.7, label='MP2')\n",
    "ax.plot(thread_number, speedup_all,     c='black',       lw=4, marker='o', alpha=1.0, label='total')\n",
    "\n",
    "# ax.set_xscale('log')\n",
    "# ax.set_yscale('log')\n",
    "\n",
    "# ax.set_xlim(0.1, 1000)\n",
    "# ax.set_ylim(0.1, 10000)\n",
    "\n",
    "ax.set_xlabel('Number of threads', fontsize=13)\n",
    "ax.set_ylabel('Speed up', fontsize=13)\n",
    "\n",
    "ax.grid(c='#aaaaaa', ls='--')\n",
    "plt.legend(fontsize=15)\n",
    "\n",
    "plt.savefig('./strong-scaling.png', dpi=300, bbox_inches='tight')"
   ]
  },
  {
   "cell_type": "code",
   "execution_count": null,
   "id": "3c3b24c6",
   "metadata": {},
   "outputs": [],
   "source": []
  }
 ],
 "metadata": {
  "kernelspec": {
   "display_name": "Python 3",
   "language": "python",
   "name": "python3"
  },
  "language_info": {
   "codemirror_mode": {
    "name": "ipython",
    "version": 3
   },
   "file_extension": ".py",
   "mimetype": "text/x-python",
   "name": "python",
   "nbconvert_exporter": "python",
   "pygments_lexer": "ipython3",
   "version": "3.9.15"
  }
 },
 "nbformat": 4,
 "nbformat_minor": 5
}
