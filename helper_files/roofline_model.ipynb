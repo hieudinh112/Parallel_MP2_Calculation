{
 "cells": [
  {
   "cell_type": "code",
   "execution_count": null,
   "id": "bb1e708e",
   "metadata": {},
   "outputs": [],
   "source": [
    "import numpy as np\n",
    "import matplotlib.pyplot as plt"
   ]
  },
  {
   "cell_type": "code",
   "execution_count": null,
   "id": "b333d630",
   "metadata": {},
   "outputs": [],
   "source": [
    "pi = 1075.2\n",
    "beta = 76.8"
   ]
  },
  {
   "cell_type": "code",
   "execution_count": null,
   "id": "73fd5354",
   "metadata": {},
   "outputs": [],
   "source": [
    "I = pi / beta"
   ]
  },
  {
   "cell_type": "code",
   "execution_count": null,
   "id": "e2fa9792",
   "metadata": {},
   "outputs": [],
   "source": [
    "intensity = np.sort(np.append(np.geomspace(0.1, 1000, 50), [I]))"
   ]
  },
  {
   "cell_type": "code",
   "execution_count": null,
   "id": "75004f3b",
   "metadata": {},
   "outputs": [],
   "source": [
    "performance = np.ones_like(intensity) * pi\n",
    "performance[intensity < I] = intensity[intensity < I] * pi / I"
   ]
  },
  {
   "cell_type": "code",
   "execution_count": null,
   "id": "1f837563",
   "metadata": {},
   "outputs": [],
   "source": [
    "NELECS = 13\n",
    "NBASIS = 202\n",
    "NAUX   = 483\n",
    "NVIR = NBASIS - NELECS"
   ]
  },
  {
   "cell_type": "code",
   "execution_count": null,
   "id": "28de2cad",
   "metadata": {},
   "outputs": [],
   "source": [
    "OI_MO1 = NBASIS / 16\n",
    "OI_MO2 = NBASIS / 16\n",
    "OI_Orthog = NAUX / 16\n",
    "OI_MP2 = NAUX / 16"
   ]
  },
  {
   "cell_type": "code",
   "execution_count": null,
   "id": "2cf47424",
   "metadata": {},
   "outputs": [],
   "source": [
    "operations_MO1    = 2 * NBASIS ** 3 / 1e9\n",
    "operations_MO2    = 2 * NBASIS ** 3 / 1e9\n",
    "operations_Orthog = 2 * NAUX ** 2 * NBASIS / 1e9\n",
    "operations_MP2    = (2 * NVIR * NVIR * NAUX  + NVIR ** 2 * 11) / 1e9"
   ]
  },
  {
   "cell_type": "markdown",
   "id": "c5e7bfc0",
   "metadata": {},
   "source": [
    "## for-loops Roffline"
   ]
  },
  {
   "cell_type": "code",
   "execution_count": null,
   "id": "33aa462a",
   "metadata": {},
   "outputs": [],
   "source": [
    "time_MO1    = 20.99 / NAUX\n",
    "time_MO2    = 28.67 / NAUX\n",
    "time_Orthog = 50.54 / NBASIS\n",
    "time_MP2    = 34.04 / NELECS ** 2"
   ]
  },
  {
   "cell_type": "markdown",
   "id": "3a1cf55a",
   "metadata": {},
   "source": [
    "## CBLAS Roofline"
   ]
  },
  {
   "cell_type": "code",
   "execution_count": null,
   "id": "75e74b4a",
   "metadata": {},
   "outputs": [],
   "source": [
    "time_CBLAS_MO1    = 1.41 / NAUX\n",
    "time_CBLAS_MO2    = 1.45 / NAUX\n",
    "time_CBLAS_Orthog = 3.99 / NBASIS\n",
    "time_CBLAS_MP2    = 1.12 / NELECS ** 2"
   ]
  },
  {
   "cell_type": "markdown",
   "id": "8cf5d726",
   "metadata": {},
   "source": [
    "## OpenMP"
   ]
  },
  {
   "cell_type": "code",
   "execution_count": null,
   "id": "1135658e",
   "metadata": {},
   "outputs": [],
   "source": [
    "time_OpenMP_MO1    = 0.09 / NAUX\n",
    "time_OpenMP_MO2    = 0.13 / NAUX\n",
    "time_OpenMP_Orthog = 0.28 / NBASIS\n",
    "time_OpenMP_MP2    = 0.07 / NELECS ** 2"
   ]
  },
  {
   "cell_type": "code",
   "execution_count": null,
   "id": "c5e39aa2",
   "metadata": {},
   "outputs": [],
   "source": [
    "fig, ax = plt.subplots(figsize=(7,4))\n",
    "ax.plot(intensity, performance, label='cluster', lw=3, c='tab:red')\n",
    "\n",
    "ax.scatter(I, pi, c='black', s=90, zorder=100)\n",
    "ax.scatter(OI_MO1, operations_MO1 / time_OpenMP_MO1,          c='lightgreen',  marker='o', s=95, label='MO1')\n",
    "ax.scatter(OI_MO2, operations_MO2 / time_OpenMP_MO2,          c='green',       marker='o', s=95, label='MO2')\n",
    "ax.scatter(OI_Orthog, operations_Orthog / time_OpenMP_Orthog, c='blue',        marker='o', s=95, label='Orthog')\n",
    "ax.scatter(OI_MP2, operations_MP2 / time_OpenMP_MP2,          c='deepskyblue', marker='o', s=95, label='MP2')\n",
    "\n",
    "ax.scatter(OI_MO1, operations_MO1 / time_CBLAS_MO1,          c='lightgreen',  marker='x', s=95)\n",
    "ax.scatter(OI_MO2, operations_MO2 / time_CBLAS_MO2,          c='green',       marker='x', s=95)\n",
    "ax.scatter(OI_Orthog, operations_Orthog / time_CBLAS_Orthog, c='blue',        marker='x', s=95)\n",
    "ax.scatter(OI_MP2, operations_MP2 / time_CBLAS_MP2,          c='deepskyblue', marker='x', s=95)\n",
    "\n",
    "ax.scatter(OI_MO1, operations_MO1 / time_MO1,          c='lightgreen',  marker='^', s=95)\n",
    "ax.scatter(OI_MO2, operations_MO2 / time_MO2,          c='green',       marker='^', s=95)\n",
    "ax.scatter(OI_Orthog, operations_Orthog / time_Orthog, c='blue',        marker='^', s=95)\n",
    "ax.scatter(OI_MP2, operations_MP2 / time_MP2,          c='deepskyblue', marker='^', s=95)\n",
    "\n",
    "ax.set_xscale('log')\n",
    "ax.set_yscale('log')\n",
    "\n",
    "ax.set_xlim(0.1, 1000)\n",
    "ax.set_ylim(0.1, 10000)\n",
    "\n",
    "ax.annotate('OpenMP', xy=(10, 75), fontsize=14,\n",
    "             xycoords='data',\n",
    "             xytext=(0.9, 60),\n",
    "             textcoords='data',\n",
    "             arrowprops=dict(arrowstyle= '-|>',\n",
    "                             color='black',\n",
    "                             lw=3.5))\n",
    "\n",
    "ax.annotate('CBLAS', xy=(10, 5.7), fontsize=14,\n",
    "             xycoords='data',\n",
    "             xytext=(0.9, 4.5),\n",
    "             textcoords='data',\n",
    "             arrowprops=dict(arrowstyle= '-|>',\n",
    "                             color='black',\n",
    "                             lw=3.5))\n",
    "\n",
    "ax.annotate('for-loops', xy=(10, 0.3), fontsize=14,\n",
    "             xycoords='data',\n",
    "             xytext=(0.9, 0.23),\n",
    "             textcoords='data',\n",
    "             arrowprops=dict(arrowstyle= '-|>',\n",
    "                             color='black',\n",
    "                             lw=3.5))\n",
    "\n",
    "ax.set_xlabel('Operational intensity [Flop / byte]', fontsize=13)\n",
    "ax.set_ylabel('Performance [Gflop / s]', fontsize=13)\n",
    "\n",
    "ax.grid(c='#aaaaaa', ls='--')\n",
    "plt.legend(fontsize=15)\n",
    "\n",
    "plt.savefig('./roofline.png', dpi=300, bbox_inches='tight')"
   ]
  },
  {
   "cell_type": "code",
   "execution_count": null,
   "id": "cf41cae1",
   "metadata": {},
   "outputs": [],
   "source": []
  }
 ],
 "metadata": {
  "kernelspec": {
   "display_name": "Python 3",
   "language": "python",
   "name": "python3"
  },
  "language_info": {
   "codemirror_mode": {
    "name": "ipython",
    "version": 3
   },
   "file_extension": ".py",
   "mimetype": "text/x-python",
   "name": "python",
   "nbconvert_exporter": "python",
   "pygments_lexer": "ipython3",
   "version": "3.9.15"
  }
 },
 "nbformat": 4,
 "nbformat_minor": 5
}
