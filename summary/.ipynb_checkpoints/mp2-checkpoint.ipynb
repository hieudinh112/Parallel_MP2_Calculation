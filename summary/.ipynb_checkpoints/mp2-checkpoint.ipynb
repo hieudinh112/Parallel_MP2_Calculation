{
 "cells": [
  {
   "cell_type": "code",
   "execution_count": 21,
   "metadata": {},
   "outputs": [],
   "source": [
    "import numpy as np\n",
    "import matplotlib.pyplot as plt\n",
    "import copy\n"
   ]
  },
  {
   "cell_type": "code",
   "execution_count": 22,
   "metadata": {},
   "outputs": [],
   "source": [
    "## Helper functions ##\n",
    "\n",
    "def printnp(matrix):\n",
    "    ## Print matrix with 12 decimals\n",
    "    print(np.array2string(matrix, formatter={'float_kind': '{0:.12f}'.format}))\n",
    "\n",
    "def read_enuc(path):\n",
    "    \n",
    "    enuc = 0\n",
    "    with open(path, 'r') as f:\n",
    "        for line in f:\n",
    "            enuc = float(line)\n",
    "    return enuc\n",
    "\n",
    "def read_one_e_integral(path, nAOs, description):\n",
    "\n",
    "    # open and append to a numpy list\n",
    "    one_e_mat = np.zeros([nAOs, nAOs])\n",
    "    infile = open(path, 'r')\n",
    "\n",
    "    for line in infile:\n",
    "        idx1 , idx2, val = line.split()\n",
    "        i, j = int(idx1) - 1, int(idx2) - 1\n",
    "        val = float(val)\n",
    "        one_e_mat[i,j] = val\n",
    "        one_e_mat[j,i] = val\n",
    "    infile.close()    \n",
    "#     print(f\"Read the {description} matrix successfully!\")\n",
    "    return one_e_mat\n",
    "\n",
    "def read_two_e_integral(path, nAOs, description):\n",
    "\n",
    "    two_e_mat = np.zeros([nAOs, nAOs, nAOs, nAOs])\n",
    "    infile = open(path, 'r')\n",
    "\n",
    "    for line in infile:\n",
    "        idx1, idx2, idx3, idx4, val = line.split()\n",
    "        i,j,k,l = int(idx1) - 1, int(idx2) - 1, int(idx3) - 1, int(idx4) - 1\n",
    "        val = float(val)\n",
    "\n",
    "        two_e_mat[i,j,k,l] = val\n",
    "        two_e_mat[j,i,k,l] = val\n",
    "        two_e_mat[i,j,l,k] = val\n",
    "        two_e_mat[j,i,l,k] = val\n",
    "\n",
    "        two_e_mat[k,l,i,j] = val\n",
    "        two_e_mat[l,k,i,j] = val\n",
    "        two_e_mat[k,l,j,i] = val\n",
    "        two_e_mat[l,k,j,i] = val\n",
    "    infile.close()\n",
    "#     print(f\"Read the {description} matrix successfully!\")\n",
    "    return two_e_mat"
   ]
  },
  {
   "cell_type": "code",
   "execution_count": 23,
   "metadata": {},
   "outputs": [],
   "source": [
    "def canonical_hartree_fock(h_core, eri_tensor, overlap_matrix, enuc, nelectrons):\n",
    "\n",
    "    def get_F(density_matrix, core_ham, eri_tensor):\n",
    "        fock = core_ham.copy()\n",
    "        fock = fock - 1/2 * np.einsum(\"mnls,nl->ms\", eri_tensor, density_matrix, optimize = True)\n",
    "        fock = fock + np.einsum(\"mnls,ls->mn\", eri_tensor, density_matrix, optimize = True)\n",
    "        return fock\n",
    "    def get_X(overlap_matrix):\n",
    "\n",
    "        eivals, eivecs = np.linalg.eigh(overlap_matrix)\n",
    "        trans = eivals**(-1/2)\n",
    "        return eivecs @ np.diag(trans) @ np.transpose(np.conjugate(eivecs))\n",
    "\n",
    "    nAOs = h_core.shape[0]\n",
    "    X = get_X(overlap_matrix)\n",
    "    #print(X @ overlap_matrix @ np.transpose(X))\n",
    "    focc = np.zeros([nAOs,nAOs])\n",
    "    focc[:nelectrons,:nelectrons] = np.identity(nelectrons)\n",
    "    # Initial guess of the coefficient matrix\n",
    "    F_trans = np.conjugate(np.transpose(X)) @ h_core @ X\n",
    "    eivals, eivecs = np.linalg.eigh(F_trans)\n",
    "    C = X @ eivecs\n",
    "    P = 2 * C @ focc @ np.transpose(np.conjugate(C))\n",
    "    F = get_F(P, h_core, eri_tensor)\n",
    "    Ei, Ef = 0, 0.5 * np.trace(P @ (h_core + F))  \n",
    "    # Fixed point iteration (This scheme ensures that the final C is canonical orbitals that diagonalize the Fock matrix)\n",
    "    while abs(Ei - Ef) > 1e-9:\n",
    "        Ei = Ef\n",
    "#         print(\"==================================\")\n",
    "#         print(f\"The current energy is {Ei + enuc}\")\n",
    "        eivals, eivecs = np.linalg.eigh(np.conjugate(np.transpose(X)) @ F @ X)\n",
    "        C = X @ eivecs \n",
    "        P = 2 * C @ focc @ np.transpose(np.conjugate(C))\n",
    "        F = get_F(P, h_core, eri_tensor)\n",
    "        Ef = 0.5 * np.trace(P @ (h_core + F))\n",
    "#     printnp(np.transpose(C) @F @ C)\n",
    "#     print(\"This is the eigenvalues\")\n",
    "#     printnp(eivals)\n",
    "#     print(\"=======================\")\n",
    "    return eivals, C, Ef + enuc"
   ]
  },
  {
   "cell_type": "code",
   "execution_count": 24,
   "metadata": {},
   "outputs": [
    {
     "name": "stdout",
     "output_type": "stream",
     "text": [
      "(49, 49)\n"
     ]
    }
   ],
   "source": [
    "import pandas as pd\n",
    "df = pd.read_csv(\"/Users/hieudinh/qchem_base/libminiqc-stable/libminiqc/samples/2e4c_eri.csv\", header = None)\n",
    "#print(df)\n",
    "eri_flat = df.to_numpy()\n",
    "print(eri_flat.shape)\n",
    "eri_tensor_MO = np.zeros([7,7,7,7])\n",
    "for i in range(7):\n",
    "    for j in range(7):\n",
    "        for k in range(7):\n",
    "            for l in range(7):\n",
    "                eri_tensor_MO[i,j,k,l] = eri_flat[i*7 +j, k*7 +l]"
   ]
  },
  {
   "cell_type": "code",
   "execution_count": 25,
   "metadata": {},
   "outputs": [],
   "source": [
    "# I think we will parallelize this part of the code\n",
    "\n",
    "def eri_tensor_to_MO(eri_tensor_AO, coeff_mat):\n",
    "    # Sequential contraction\n",
    "    eri1 = np.einsum(\"mnls,mp->pnls\",eri_tensor_AO, coeff_mat, optimize=True)\n",
    "    eri2 = np.einsum(\"pnls,nq->pqls\",eri1, coeff_mat, optimize=True)\n",
    "    eri3 = np.einsum(\"pqls,lr->pqrs\",eri2, coeff_mat, optimize=True)\n",
    "    eri_tensor_MO = np.einsum(\"pqrs,st->pqrt\",eri3, coeff_mat, optimize=True)\n",
    "    return eri_tensor_MO\n",
    "\n",
    "def mp2_correction(eri_tensor_MO, orbital_energy, nelectrons):\n",
    "    \n",
    "    nAOs = orbital_energy.shape[0]\n",
    "    mp2_correlation = 0\n",
    "    for i in range(nelectrons):\n",
    "        for j in range(nelectrons):\n",
    "            for a in range(nelectrons, nAOs):\n",
    "                for b in range(nelectrons, nAOs):\n",
    "                    mp2_correlation += eri_tensor_MO[i,a,j,b] * ( 2 * eri_tensor_MO[i,a,j,b] - eri_tensor_MO[i,b,j,a]) / (orbital_energy[i] + orbital_energy[j] - orbital_energy[a] - orbital_energy[b])\n",
    "\n",
    "    return mp2_correlation\n"
   ]
  },
  {
   "cell_type": "code",
   "execution_count": 26,
   "metadata": {},
   "outputs": [
    {
     "name": "stdout",
     "output_type": "stream",
     "text": [
      "[[-20.262892803907 0.000000159449 0.000000000000 0.000000115266\n",
      "  -0.000000000000 0.000000070645 -0.000000000000]\n",
      " [0.000000159449 -1.209698390664 0.000000000000 0.000001013909\n",
      "  0.000000000000 0.000000723878 0.000000000000]\n",
      " [0.000000000000 0.000000000000 -0.547966283051 -0.000000000000\n",
      "  -0.000000000000 0.000000000000 0.000004368540]\n",
      " [0.000000115266 0.000001013909 -0.000000000000 -0.436525627075\n",
      "  0.000000000000 0.000005707728 0.000000000000]\n",
      " [-0.000000000000 0.000000000000 -0.000000000000 0.000000000000\n",
      "  -0.387587682879 -0.000000000000 0.000000000000]\n",
      " [0.000000070645 0.000000723878 0.000000000000 0.000005707728\n",
      "  -0.000000000000 0.477619909575 -0.000000000000]\n",
      " [-0.000000000000 0.000000000000 0.000004368540 0.000000000000\n",
      "  0.000000000000 -0.000000000000 0.588137006738]]\n",
      "[-20.262894074946 -1.209699480861 -0.547968032966 -0.436523936781\n",
      " -0.387588717275 0.477621182053 0.588134566691]\n",
      "mp2 correction to the hartree fock energy is -4.7914256134867665e-05\n"
     ]
    }
   ],
   "source": [
    "t_path = \"/Users/hieudinh/Desktop/Spring 2023 (Harvard)/CS205/team10/test/h2o/STO-3G/t.dat\"\n",
    "v_path = \"/Users/hieudinh/Desktop/Spring 2023 (Harvard)/CS205/team10/test/h2o/STO-3G/v.dat\"\n",
    "eri_path = \"/Users/hieudinh/Desktop/Spring 2023 (Harvard)/CS205/team10/test/h2o/STO-3G/eri.dat\"\n",
    "overlap_path = \"/Users/hieudinh/Desktop/Spring 2023 (Harvard)/CS205/team10/test/h2o/STO-3G/s.dat\" \n",
    "enuc_path = \"/Users/hieudinh/Desktop/Spring 2023 (Harvard)/CS205/team10/test/h2o/STO-3G/enuc.dat\"\n",
    "\n",
    "nbasis, nelectrons = 7, 5\n",
    "\n",
    "# The integrals can be calculated from another software\n",
    "\n",
    "t_matrix = read_one_e_integral(t_path, nbasis, \"kinetic\")\n",
    "v_matrix = read_one_e_integral(v_path, nbasis, \"nuclear attraction\")\n",
    "overlap_matrix = read_one_e_integral(overlap_path, nbasis, \"overlap (S)\")\n",
    "enuc = read_enuc(enuc_path)\n",
    "eri_tensor = read_two_e_integral(eri_path, nbasis, \"ERI\")\n",
    "\n",
    "\n",
    "# Energy of water in STO-3G basis: -74.942079928192, in DZP basis: -76.008821792900, in DZ absis: -75.977878975377\n",
    "\n",
    "orbital_energy, opt_orbitals, HF_Energy = canonical_hartree_fock(t_matrix + v_matrix, eri_tensor, overlap_matrix, enuc, nelectrons)\n",
    "\n",
    "#printnp(opt_orbitals)\n",
    "#eri_tensor_MO = eri_tensor_to_MO(eri_tensor, opt_orbitals)\n",
    "mp2 = mp2_correction(eri_tensor_MO, orbital_energy, nelectrons)\n",
    "print(f\"mp2 correction to the hartree fock energy is {mp2}\")"
   ]
  },
  {
   "cell_type": "code",
   "execution_count": null,
   "metadata": {},
   "outputs": [],
   "source": []
  }
 ],
 "metadata": {
  "kernelspec": {
   "display_name": "Python 3 (ipykernel)",
   "language": "python",
   "name": "python3"
  },
  "language_info": {
   "codemirror_mode": {
    "name": "ipython",
    "version": 3
   },
   "file_extension": ".py",
   "mimetype": "text/x-python",
   "name": "python",
   "nbconvert_exporter": "python",
   "pygments_lexer": "ipython3",
   "version": "3.9.13"
  },
  "vscode": {
   "interpreter": {
    "hash": "c508c3005f7413942636564c3a7b94c795e962b612e16b6e376da1c3dff9b4c8"
   }
  }
 },
 "nbformat": 4,
 "nbformat_minor": 2
}
